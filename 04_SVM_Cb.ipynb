{
 "cells": [
  {
   "cell_type": "code",
   "execution_count": 1,
   "metadata": {},
   "outputs": [],
   "source": [
    "import json\n",
    "import pandas as pd\n",
    "import numpy as np\n",
    "from sklearn.svm import SVC\n",
    "from sklearn.metrics import accuracy_score, recall_score, f1_score, confusion_matrix\n",
    "from sklearn.preprocessing import LabelEncoder\n",
    "from sklearn.model_selection import train_test_split"
   ]
  },
  {
   "cell_type": "code",
   "execution_count": 2,
   "metadata": {},
   "outputs": [],
   "source": [
    "class RecommendationSystemSVM:\n",
    "    def __init__(self):\n",
    "        self.svm_model = SVC(kernel='linear')\n",
    "        self.label_encoder = LabelEncoder()\n",
    "        self.is_trained = False\n",
    "\n",
    "    def load_data(self, customers_file, products_file, ratings_file):\n",
    "        with open(customers_file, 'r') as f:\n",
    "            self.customers_data = json.load(f)\n",
    "\n",
    "        with open(products_file, 'r') as f:\n",
    "            self.products_data = json.load(f)\n",
    "\n",
    "        with open(ratings_file, 'r') as f:\n",
    "            self.ratings_data = json.load(f)\n",
    "\n",
    "    def preprocess_data(self):\n",
    "        customers_df = pd.DataFrame(self.customers_data)\n",
    "        products_df = pd.DataFrame(self.products_data)\n",
    "        ratings_df = pd.DataFrame(self.ratings_data)\n",
    "        customers_df.rename(columns={'Id': 'CustomerID'}, inplace=True)\n",
    "        products_df.rename(columns={'Id': 'ProductID'}, inplace=True)\n",
    "        user_item_df = pd.merge(ratings_df, customers_df, on='CustomerID')\n",
    "        user_item_df = pd.merge(user_item_df, products_df, on='ProductID')\n",
    "\n",
    "        # Encode categorical features like 'Age', 'Region', 'Category', 'genre'\n",
    "        label_encoder = LabelEncoder()\n",
    "        user_item_df['Age_encoded'] = label_encoder.fit_transform(user_item_df['Age'])\n",
    "        user_item_df['Region_encoded'] = label_encoder.fit_transform(user_item_df['Region'])\n",
    "        user_item_df['Category_encoded'] = label_encoder.fit_transform(user_item_df['Category'])\n",
    "        user_item_df['genre_encoded'] = label_encoder.fit_transform(user_item_df['genre'])\n",
    "        \n",
    "        # Encode user and product IDs\n",
    "        user_item_df['user_id_encoded'] = self.label_encoder.fit_transform(user_item_df['CustomerID'])\n",
    "        user_item_df['product_id_encoded'] = self.label_encoder.fit_transform(user_item_df['ProductID'])\n",
    "\n",
    "        # Define features and target variable\n",
    "        features = user_item_df[['user_id_encoded', 'product_id_encoded', 'Age_encoded', 'Region_encoded', 'Category_encoded', 'genre_encoded']]\n",
    "        target = user_item_df['Rate']\n",
    "\n",
    "        # Split data into train and test sets\n",
    "        self.X_train, self.X_test, self.y_train, self.y_test = train_test_split(\n",
    "            features, target, test_size=0.2, random_state=42)\n",
    "\n",
    "    def train_model(self):\n",
    "        self.svm_model.fit(self.X_train, self.y_train)\n",
    "        self.is_trained = True\n",
    "\n",
    "    def evaluate_model(self):\n",
    "        if not self.is_trained:\n",
    "            print(\"Model is not trained. Call train_model() first.\")\n",
    "            return\n",
    "\n",
    "        y_pred = self.svm_model.predict(self.X_test)\n",
    "\n",
    "        accuracy = accuracy_score(self.y_test, y_pred)\n",
    "        recall = recall_score(self.y_test, y_pred, average='weighted')\n",
    "        f1 = f1_score(self.y_test, y_pred, average='weighted')\n",
    "        confusion = confusion_matrix(self.y_test, y_pred)\n",
    "\n",
    "        print(\"Accuracy:\", accuracy)\n",
    "        print(\"Recall:\", recall)\n",
    "        print(\"F1 Score:\", f1)\n",
    "        print(\"Confusion Matrix:\")\n",
    "        print(confusion)\n"
   ]
  },
  {
   "cell_type": "code",
   "execution_count": null,
   "metadata": {},
   "outputs": [],
   "source": [
    "if __name__ == \"__main__\":\n",
    "    recommendation_system = RecommendationSystemSVM()\n",
    "    recommendation_system.load_data('input/dataset/customers.json', 'input/dataset/products.json', 'input/dataset/ratings.json')\n",
    "    recommendation_system.preprocess_data()\n",
    "    recommendation_system.train_model()\n",
    "    recommendation_system.evaluate_model()"
   ]
  }
 ],
 "metadata": {
  "kernelspec": {
   "display_name": "Python 3",
   "language": "python",
   "name": "python3"
  },
  "language_info": {
   "codemirror_mode": {
    "name": "ipython",
    "version": 3
   },
   "file_extension": ".py",
   "mimetype": "text/x-python",
   "name": "python",
   "nbconvert_exporter": "python",
   "pygments_lexer": "ipython3",
   "version": "3.11.3"
  },
  "orig_nbformat": 4
 },
 "nbformat": 4,
 "nbformat_minor": 2
}
