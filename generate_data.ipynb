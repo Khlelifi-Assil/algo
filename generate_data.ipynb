{
 "cells": [
  {
   "cell_type": "code",
   "execution_count": 1,
   "metadata": {},
   "outputs": [],
   "source": [
    "import json\n",
    "import random\n",
    "from faker import Faker\n",
    "from datetime import datetime, timedelta"
   ]
  },
  {
   "cell_type": "code",
   "execution_count": 2,
   "metadata": {},
   "outputs": [],
   "source": [
    "# Initialize the Faker library to generate fake data\n",
    "fake = Faker()\n",
    "categories = [\"Electronics\", \"Clothing\", \"Books\", \"Home_Decor\", \"Food\", \"Toys\", \"Beauty\", \"Sports\"]\n",
    "tunisian_regions = [\"Ariana\", \"Beja\", \"Ben Arous\", \"Bizerte\", \"Gabes\", \"Gafsa\", \"Jendouba\", \"Kairouan\", \"Kasserine\", \"Kebili\", \"Le_Kef\", \"Mahdia\", \"Manouba\", \"Medenine\", \"Monastir\", \"Nabeul\", \"Sfax\", \"Sidi_Bouzid\", \"Siliana\", \"Sousse\", \"Tataouine\", \"Tozeur\", \"Tunis\", \"Zaghouan\"]\n",
    "Genre =[\"Male\", \"Female\"]"
   ]
  },
  {
   "cell_type": "code",
   "execution_count": 3,
   "metadata": {},
   "outputs": [],
   "source": [
    "num_customers = 100000\n",
    "num_products = 15000\n",
    "num_ratings = 900000"
   ]
  },
  {
   "cell_type": "code",
   "execution_count": 4,
   "metadata": {},
   "outputs": [],
   "source": [
    "customers = []\n",
    "for i in range(1, num_customers + 1):\n",
    "    customer = {\n",
    "            \"Id\": i,\n",
    "            \"NickName\": fake.user_name(),\n",
    "            \"Age\": random.randint(18, 60),\n",
    "            \"Region\" :  random.choice(tunisian_regions),\n",
    "            \"genre\" :  random.choice(Genre)\n",
    "        }\n",
    "    customers.append(customer)\n",
    "\n",
    "with open(\"customers.json\", \"w\") as customers_file:\n",
    "    json.dump(customers, customers_file, indent=4)\n"
   ]
  },
  {
   "cell_type": "code",
   "execution_count": 5,
   "metadata": {},
   "outputs": [],
   "source": [
    "products = []\n",
    "for i in range(1, num_products + 1):\n",
    "        product = {\n",
    "            \"Id\": i,\n",
    "            \"Name\": fake.word(),\n",
    "            \"Price\": round(random.uniform(1, 1000), 2),\n",
    "            \"Category\": random.choice(categories)\n",
    "        }\n",
    "        products.append(product)\n",
    "with open(\"products.json\", \"w\") as products_file:\n",
    "    json.dump(products, products_file, indent=4)\n"
   ]
  },
  {
   "cell_type": "code",
   "execution_count": 6,
   "metadata": {},
   "outputs": [
    {
     "ename": "KeyboardInterrupt",
     "evalue": "",
     "output_type": "error",
     "traceback": [
      "\u001b[1;31m---------------------------------------------------------------------------\u001b[0m",
      "\u001b[1;31mKeyboardInterrupt\u001b[0m                         Traceback (most recent call last)",
      "Cell \u001b[1;32mIn[6], line 22\u001b[0m\n\u001b[0;32m     20\u001b[0m         random_user \u001b[39m=\u001b[39m random\u001b[39m.\u001b[39mchoice(user)\n\u001b[0;32m     21\u001b[0m \u001b[39melif\u001b[39;00m category \u001b[39m==\u001b[39m \u001b[39m\"\u001b[39m\u001b[39mFood\u001b[39m\u001b[39m\"\u001b[39m:\n\u001b[1;32m---> 22\u001b[0m     user \u001b[39m=\u001b[39m [user \u001b[39mfor\u001b[39;49;00m user \u001b[39min\u001b[39;49;00m customers \u001b[39mif\u001b[39;49;00m  customer\u001b[39m.\u001b[39;49mget(\u001b[39m'\u001b[39;49m\u001b[39mAge\u001b[39;49m\u001b[39m'\u001b[39;49m) \u001b[39m>\u001b[39;49m\u001b[39m=\u001b[39;49m \u001b[39m22\u001b[39;49m \u001b[39mand\u001b[39;49;00m customer\u001b[39m.\u001b[39;49mget(\u001b[39m'\u001b[39;49m\u001b[39mAge\u001b[39;49m\u001b[39m'\u001b[39;49m) \u001b[39m<\u001b[39;49m\u001b[39m=\u001b[39;49m \u001b[39m60\u001b[39;49m]\n\u001b[0;32m     23\u001b[0m     \u001b[39mif\u001b[39;00m \u001b[39mlen\u001b[39m(user) \u001b[39m>\u001b[39m \u001b[39m0\u001b[39m:\n\u001b[0;32m     24\u001b[0m         random_user \u001b[39m=\u001b[39m random\u001b[39m.\u001b[39mchoice(user)\n",
      "Cell \u001b[1;32mIn[6], line 22\u001b[0m, in \u001b[0;36m<listcomp>\u001b[1;34m(.0)\u001b[0m\n\u001b[0;32m     20\u001b[0m         random_user \u001b[39m=\u001b[39m random\u001b[39m.\u001b[39mchoice(user)\n\u001b[0;32m     21\u001b[0m \u001b[39melif\u001b[39;00m category \u001b[39m==\u001b[39m \u001b[39m\"\u001b[39m\u001b[39mFood\u001b[39m\u001b[39m\"\u001b[39m:\n\u001b[1;32m---> 22\u001b[0m     user \u001b[39m=\u001b[39m [user \u001b[39mfor\u001b[39;00m user \u001b[39min\u001b[39;00m customers \u001b[39mif\u001b[39;00m  customer\u001b[39m.\u001b[39mget(\u001b[39m'\u001b[39m\u001b[39mAge\u001b[39m\u001b[39m'\u001b[39m) \u001b[39m>\u001b[39m\u001b[39m=\u001b[39m \u001b[39m22\u001b[39m \u001b[39mand\u001b[39;00m customer\u001b[39m.\u001b[39mget(\u001b[39m'\u001b[39m\u001b[39mAge\u001b[39m\u001b[39m'\u001b[39m) \u001b[39m<\u001b[39m\u001b[39m=\u001b[39m \u001b[39m60\u001b[39m]\n\u001b[0;32m     23\u001b[0m     \u001b[39mif\u001b[39;00m \u001b[39mlen\u001b[39m(user) \u001b[39m>\u001b[39m \u001b[39m0\u001b[39m:\n\u001b[0;32m     24\u001b[0m         random_user \u001b[39m=\u001b[39m random\u001b[39m.\u001b[39mchoice(user)\n",
      "\u001b[1;31mKeyboardInterrupt\u001b[0m: "
     ]
    }
   ],
   "source": [
    "ratings = []\n",
    "for i in range(1, num_ratings + 1):\n",
    "        product = random.choice(products)\n",
    "        category = product[\"Category\"]\n",
    "        if category == \"Toys\":\n",
    "            user = [user for user in customers if user.get('genre') == 'Female' and user.get('Age') >= 22 and user.get('Age') <= 48]\n",
    "            if len(user) > 0:\n",
    "                random_user = random.choice(user)\n",
    "        elif category == \"Beauty\":\n",
    "            user = [user for user in customers if customer.get('genre') == 'Female' and customer.get('Age') >= 18 and customer.get('Age') <= 55]\n",
    "            if len(user) > 0:\n",
    "                random_user = random.choice(user)\n",
    "        elif category == \"Electronics\":\n",
    "            user = [user for user in customers if customer.get('genre') == 'Male' and customer.get('Age') >= 18 and customer.get('Age') <= 60]\n",
    "            if len(user) > 0:\n",
    "                random_user = random.choice(user)\n",
    "        elif category == \"Sports\":\n",
    "            user = [user for user in customers if  customer.get('Age') >= 18 and customer.get('Age') <= 50]\n",
    "            if len(user) > 0:\n",
    "                random_user = random.choice(user)\n",
    "        elif category == \"Food\":\n",
    "            user = [user for user in customers if  customer.get('Age') >= 22 and customer.get('Age') <= 60]\n",
    "            if len(user) > 0:\n",
    "                random_user = random.choice(user)\n",
    "        else :\n",
    "             user = [user for user in customers]\n",
    "             random_user = random.choice(user)\n",
    "\n",
    "        rating = {\n",
    "            \"CustomerID\": random_user[\"Id\"],\n",
    "            \"ProductID\": product[\"Id\"],\n",
    "            \"Rate\": random.randint(1, 5),\n",
    "            \"Commentaire\": fake.sentence(),\n",
    "            \"CreateDate\": (datetime.now() - timedelta(days=random.randint(1, 365))).isoformat(),\n",
    "        }\n",
    "        ratings.append(rating)\n",
    "with open(\"ratings.json\", \"w\") as ratings_file:\n",
    "    json.dump(ratings, ratings_file, indent=4)\n"
   ]
  }
 ],
 "metadata": {
  "kernelspec": {
   "display_name": "Python 3",
   "language": "python",
   "name": "python3"
  },
  "language_info": {
   "codemirror_mode": {
    "name": "ipython",
    "version": 3
   },
   "file_extension": ".py",
   "mimetype": "text/x-python",
   "name": "python",
   "nbconvert_exporter": "python",
   "pygments_lexer": "ipython3",
   "version": "3.11.3"
  },
  "orig_nbformat": 4
 },
 "nbformat": 4,
 "nbformat_minor": 2
}
