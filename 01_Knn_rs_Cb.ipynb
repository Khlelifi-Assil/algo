{
 "cells": [
  {
   "cell_type": "code",
   "execution_count": 1,
   "metadata": {},
   "outputs": [],
   "source": [
    "import pandas as pd\n",
    "import numpy as np\n",
    "from sklearn.neighbors import NearestNeighbors\n",
    "from sklearn.preprocessing import LabelEncoder\n"
   ]
  },
  {
   "cell_type": "code",
   "execution_count": 2,
   "metadata": {},
   "outputs": [],
   "source": [
    "class ContentBasedRecommendationModel:\n",
    "    def __init__(self, customers_file, products_file, ratings_file, n_neighbors=5, metric='euclidean'):\n",
    "        self.customers_file = customers_file\n",
    "        self.products_file = products_file\n",
    "        self.ratings_file = ratings_file\n",
    "        self.n_neighbors = n_neighbors\n",
    "        self.metric = metric\n",
    "        self.label_encoder = LabelEncoder()\n",
    "        self.knn_model = None\n",
    "        self.merged_df = None\n",
    "\n",
    "    def load_data(self):\n",
    "        customers_df = pd.read_json(self.customers_file)\n",
    "        products_df = pd.read_json(self.products_file)\n",
    "        ratings_df = pd.read_json(self.ratings_file)\n",
    "        customers_df.rename(columns={'Id': 'CustomerID'}, inplace=True)\n",
    "        products_df.rename(columns={'Id': 'ProductID'}, inplace=True)\n",
    " \n",
    "        # Merge ratings data with customer and product dataCustomerID\n",
    "        self.merged_df = ratings_df.merge(customers_df, on='CustomerID')\n",
    "        self.merged_df = self.merged_df.merge(products_df, on='ProductID')\n",
    "        # Encode categorical features like 'age' and 'region'\n",
    "        self.merged_df['Age'] = self.label_encoder.fit_transform(self.merged_df['Age'])\n",
    "        self.merged_df['Region'] = self.label_encoder.fit_transform(self.merged_df['Region'])\n",
    "        self.merged_df['Category'] = self.label_encoder.fit_transform(self.merged_df['Category'])\n",
    "        self.merged_df['genre'] = self.label_encoder.fit_transform(self.merged_df['genre'])\n",
    "        print(self.merged_df['genre'])\n",
    "    def train_model(self):\n",
    "        X = self.merged_df[['Category', 'Age', 'Region','genre']]\n",
    "        self.knn_model = NearestNeighbors(n_neighbors=self.n_neighbors, metric=self.metric, algorithm='brute')\n",
    "        self.knn_model.fit(X)\n",
    "\n",
    "    def get_recommendations(self, product_features, num_recommendations=5):\n",
    "        if self.knn_model is None:\n",
    "            raise Exception(\"Model has not been trained. Call train_model() first.\")\n",
    "        distances, indices = self.knn_model.kneighbors([product_features], n_neighbors=num_recommendations)\n",
    "        recommended_products = []\n",
    "        for index in indices[0]:\n",
    "            recommended_products.append(self.merged_df.iloc[index]['ProductID'])\n",
    "        return recommended_products\n",
    "\n",
    "    def evaluate_recommendations(self, true_product_id, recommended_products, K):\n",
    "        hit = true_product_id in recommended_products\n",
    "        precision_at_K = len(set(recommended_products) & set([true_product_id])) / K\n",
    "        recall_at_K = len(set(recommended_products) & set([true_product_id])) / 1 if hit else 0\n",
    "        return hit, precision_at_K, recall_at_K\n",
    "\n",
    "    def calculate_mrr(self, hit):\n",
    "        if hit:\n",
    "            return 1\n",
    "        else:\n",
    "            return 0\n",
    "\n",
    "    def calculate_ndcg(self, recommended_products, true_product_id):\n",
    "        if true_product_id in recommended_products:\n",
    "            true_position = recommended_products.index(true_product_id) + 1\n",
    "            return 1 / np.log2(true_position + 1)\n",
    "        else:\n",
    "            return 0"
   ]
  },
  {
   "cell_type": "code",
   "execution_count": 4,
   "metadata": {},
   "outputs": [
    {
     "name": "stdout",
     "output_type": "stream",
     "text": [
      "0        0\n",
      "1        1\n",
      "2        0\n",
      "3        1\n",
      "4        0\n",
      "        ..\n",
      "99995    1\n",
      "99996    0\n",
      "99997    1\n",
      "99998    0\n",
      "99999    0\n",
      "Name: genre, Length: 100000, dtype: int32\n",
      "Hit Rate: False\n",
      "Precision at K: 0.0\n",
      "Recall at K: 0\n",
      "Mean Reciprocal Rank (MRR): 0\n",
      "Normalized Discounted Cumulative Gain (NDCG): 0\n"
     ]
    },
    {
     "name": "stderr",
     "output_type": "stream",
     "text": [
      "c:\\Users\\khlif\\AppData\\Local\\Programs\\Python\\Python311\\Lib\\site-packages\\sklearn\\base.py:439: UserWarning: X does not have valid feature names, but NearestNeighbors was fitted with feature names\n",
      "  warnings.warn(\n"
     ]
    }
   ],
   "source": [
    "if __name__ == \"__main__\":\n",
    "    # Example usage of the ContentBasedRecommendationModel class\n",
    "    customers_file = 'input/dataset/customers.json'\n",
    "    products_file = 'input/dataset/products.json'\n",
    "    ratings_file = 'input/dataset/ratings.json'\n",
    "\n",
    "    model = ContentBasedRecommendationModel(customers_file, products_file, ratings_file)\n",
    "    model.load_data()\n",
    "    model.train_model()\n",
    "\n",
    "    # Example: Get recommendations for a specific product (provide its features)\n",
    "    product_features_to_recommend_for = [2, 30, 3,1]\n",
    "    recommended_products = model.get_recommendations(product_features_to_recommend_for)\n",
    "\n",
    "    # Evaluate recommendations (replace these with actual values)\n",
    "    true_product_id = 1  # Replace with the actual product ID you want to evaluate\n",
    "    K = 5  # Top K recommendations\n",
    "    hit, precision_at_K, recall_at_K = model.evaluate_recommendations(true_product_id, recommended_products, K)\n",
    "    mrr = model.calculate_mrr(hit)\n",
    "    ndcg = model.calculate_ndcg(recommended_products, true_product_id)\n",
    "\n",
    "    # Display evaluation results\n",
    "    print(\"Hit Rate:\", hit)\n",
    "    print(\"Precision at K:\", precision_at_K)\n",
    "    print(\"Recall at K:\", recall_at_K)\n",
    "    print(\"Mean Reciprocal Rank (MRR):\", mrr)\n",
    "    print(\"Normalized Discounted Cumulative Gain (NDCG):\", ndcg)\n"
   ]
  }
 ],
 "metadata": {
  "kernelspec": {
   "display_name": "Python 3",
   "language": "python",
   "name": "python3"
  },
  "language_info": {
   "codemirror_mode": {
    "name": "ipython",
    "version": 3
   },
   "file_extension": ".py",
   "mimetype": "text/x-python",
   "name": "python",
   "nbconvert_exporter": "python",
   "pygments_lexer": "ipython3",
   "version": "3.11.3"
  },
  "orig_nbformat": 4
 },
 "nbformat": 4,
 "nbformat_minor": 2
}
